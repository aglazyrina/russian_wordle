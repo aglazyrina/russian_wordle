{
 "cells": [
  {
   "cell_type": "code",
   "execution_count": 1,
   "id": "befd828f-2acd-468c-9f95-cd71efdbde41",
   "metadata": {},
   "outputs": [],
   "source": [
    "import pymorphy2\n",
    "import nltk\n",
    "import wordle_toolkit as wt"
   ]
  },
  {
   "cell_type": "code",
   "execution_count": 2,
   "id": "a15b094f-f203-41b1-b4a1-b30f7a613fd4",
   "metadata": {},
   "outputs": [],
   "source": [
    "FILENAME = 'crime_and_punishment.txt'\n",
    "\n",
    "def wordlize(text):\n",
    "    morph = pymorphy2.MorphAnalyzer()\n",
    "    all_words = [word for word in nltk.word_tokenize(text) if word.isalnum()]\n",
    "    words_normalized = [morph.parse(word)[0].normal_form for word in all_words]\n",
    "    nouns = [word for word in words_normalized if morph.parse(word)[0].tag.POS == 'NOUN']\n",
    "    words_valid = [word.upper() for word in nouns if wt.is_valid(word)]\n",
    "    return words_valid\n",
    "\n"
   ]
  },
  {
   "cell_type": "code",
   "execution_count": 3,
   "id": "a6671a97-e561-4ac5-9fd9-fed3f34d3d8b",
   "metadata": {},
   "outputs": [],
   "source": [
    "with open(FILENAME) as f:\n",
    "    contents = f.read()"
   ]
  },
  {
   "cell_type": "code",
   "execution_count": 4,
   "id": "bb9f186f-76e4-4c15-88aa-58ee22b62094",
   "metadata": {},
   "outputs": [],
   "source": [
    "valid_words = wordlize(contents)"
   ]
  },
  {
   "cell_type": "code",
   "execution_count": 5,
   "id": "4a7baf91-3fa4-4176-8fbd-b6cca509530d",
   "metadata": {},
   "outputs": [],
   "source": [
    "text_to_save = ' '.join(list(set(valid_words)))\n",
    "with open('sources/{}_wordlized.txt'.format(FILENAME.split('.')[0]), 'w') as f:\n",
    "    f.write(text_to_save)"
   ]
  }
 ],
 "metadata": {
  "kernelspec": {
   "display_name": "Python 3",
   "language": "python",
   "name": "python3"
  },
  "language_info": {
   "codemirror_mode": {
    "name": "ipython",
    "version": 3
   },
   "file_extension": ".py",
   "mimetype": "text/x-python",
   "name": "python",
   "nbconvert_exporter": "python",
   "pygments_lexer": "ipython3",
   "version": "3.8.8"
  }
 },
 "nbformat": 4,
 "nbformat_minor": 5
}
