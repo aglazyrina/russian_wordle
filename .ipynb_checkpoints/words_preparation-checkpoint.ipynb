{
 "cells": [
  {
   "cell_type": "code",
   "execution_count": 1,
   "id": "befd828f-2acd-468c-9f95-cd71efdbde41",
   "metadata": {},
   "outputs": [],
   "source": [
    "import pymorphy2\n",
    "import nltk\n",
    "import wordle_toolkit as wt"
   ]
  },
  {
   "cell_type": "code",
   "execution_count": 2,
   "id": "a15b094f-f203-41b1-b4a1-b30f7a613fd4",
   "metadata": {},
   "outputs": [],
   "source": [
    "FILENAME = 'crimeandpunishment.txt'\n",
    "\n",
    "def wordlize(text):\n",
    "    morph = pymorphy2.MorphAnalyzer()\n",
    "    all_words = [word for word in nltk.word_tokenize(text) if word.isalnum()]\n",
    "    words_normalized = [morph.parse(word)[0].normal_form for word in all_words]\n",
    "    words_valid = [word.upper() for word in words_normalized if wt.is_valid(word)]\n",
    "    return words_valid\n",
    "\n"
   ]
  },
  {
   "cell_type": "code",
   "execution_count": 3,
   "id": "a6671a97-e561-4ac5-9fd9-fed3f34d3d8b",
   "metadata": {},
   "outputs": [],
   "source": [
    "with open(FILENAME) as f:\n",
    "    contents = f.read()"
   ]
  },
  {
   "cell_type": "code",
   "execution_count": 4,
   "id": "bb9f186f-76e4-4c15-88aa-58ee22b62094",
   "metadata": {},
   "outputs": [],
   "source": [
    "valid_words = wordlize(contents)"
   ]
  },
  {
   "cell_type": "code",
   "execution_count": 5,
   "id": "4a7baf91-3fa4-4176-8fbd-b6cca509530d",
   "metadata": {},
   "outputs": [
    {
     "data": {
      "text/plain": [
       "{'АВТОР',\n",
       " 'АРЕСТ',\n",
       " 'АСКЕТ',\n",
       " 'ВЕНОК',\n",
       " 'ВЕСТА',\n",
       " 'ВЕТЕР',\n",
       " 'КАРТА',\n",
       " 'КАСКА',\n",
       " 'КОМАР',\n",
       " 'КОМОК',\n",
       " 'КОРКА',\n",
       " 'КРАСА',\n",
       " 'КРЕСТ',\n",
       " 'КУРОК',\n",
       " 'КУСОК',\n",
       " 'МАНЕР',\n",
       " 'МАСКА',\n",
       " 'МАССА',\n",
       " 'МЕРКА',\n",
       " 'МЕСТО',\n",
       " 'МОНАХ',\n",
       " 'НАВЕТ',\n",
       " 'НАУКА',\n",
       " 'НЕМКА',\n",
       " 'НОРОВ',\n",
       " 'НОСКА',\n",
       " 'НОСОК',\n",
       " 'НОТКА',\n",
       " 'ОКЕАН',\n",
       " 'ОТВЕТ',\n",
       " 'ОХОТА',\n",
       " 'РАМКА',\n",
       " 'РОМАН',\n",
       " 'РОМЕО',\n",
       " 'РУССО',\n",
       " 'САХАР',\n",
       " 'СЕНАТ',\n",
       " 'СЕТКА',\n",
       " 'СКОМА',\n",
       " 'СКУКА',\n",
       " 'СОВЕТ',\n",
       " 'ССОРА',\n",
       " 'СТЕНА',\n",
       " 'СТРАХ',\n",
       " 'СУЕТА',\n",
       " 'СУКНО',\n",
       " 'СУММА',\n",
       " 'СУРОК',\n",
       " 'ТЕАТР',\n",
       " 'ТЕКСТ',\n",
       " 'ТОВАР',\n",
       " 'ТОСКА',\n",
       " 'ТРАВА',\n",
       " 'ТРАУР',\n",
       " 'ТРЕСК',\n",
       " 'ТУМАН',\n",
       " 'ТУРОК',\n",
       " 'ХВОСТ',\n",
       " 'ХОХОТ',\n",
       " 'ХРОМА'}"
      ]
     },
     "execution_count": 5,
     "metadata": {},
     "output_type": "execute_result"
    }
   ],
   "source": [
    "set(valid_words)"
   ]
  },
  {
   "cell_type": "code",
   "execution_count": 7,
   "id": "9a00146e-f9b7-48fe-af21-bd4340e02a05",
   "metadata": {},
   "outputs": [
    {
     "data": {
      "text/plain": [
       "False"
      ]
     },
     "execution_count": 7,
     "metadata": {},
     "output_type": "execute_result"
    }
   ],
   "source": [
    "wt.is_valid('OTBAT')"
   ]
  },
  {
   "cell_type": "code",
   "execution_count": null,
   "id": "c419c577-dd27-4474-be44-928d5a32fd5f",
   "metadata": {},
   "outputs": [],
   "source": []
  },
  {
   "cell_type": "code",
   "execution_count": null,
   "id": "c2aac031-c66a-474c-90ce-e57ca349c05a",
   "metadata": {},
   "outputs": [],
   "source": []
  },
  {
   "cell_type": "code",
   "execution_count": null,
   "id": "4d718acc-a1b1-403c-8ecd-29ef0c15a9c1",
   "metadata": {},
   "outputs": [],
   "source": []
  }
 ],
 "metadata": {
  "kernelspec": {
   "display_name": "Python 3",
   "language": "python",
   "name": "python3"
  },
  "language_info": {
   "codemirror_mode": {
    "name": "ipython",
    "version": 3
   },
   "file_extension": ".py",
   "mimetype": "text/x-python",
   "name": "python",
   "nbconvert_exporter": "python",
   "pygments_lexer": "ipython3",
   "version": "3.8.8"
  }
 },
 "nbformat": 4,
 "nbformat_minor": 5
}
